{
  "nbformat": 4,
  "nbformat_minor": 0,
  "metadata": {
    "colab": {
      "provenance": []
    },
    "kernelspec": {
      "name": "python3",
      "display_name": "Python 3"
    },
    "language_info": {
      "name": "python"
    }
  },
  "cells": [
    {
      "cell_type": "code",
      "execution_count": 1,
      "metadata": {
        "id": "BwxriIG0OIVc"
      },
      "outputs": [],
      "source": [
        "# building a  tokenizer from sctrach\n",
        "# For easy learning and understanding"
      ]
    },
    {
      "cell_type": "code",
      "source": [
        "# Very Simple BPE Tokenizer for Learning\n",
        "\n",
        "class EasyBPE:\n",
        "    def __init__(self):\n",
        "        self.vocab = {}  # word -> number\n",
        "\n",
        "    def train(self, text):\n",
        "        \"\"\"Train on simple text\"\"\"\n",
        "        # Just split by spaces to get words\n",
        "        words = text.split()\n",
        "\n",
        "        # Give each unique word a number\n",
        "        unique_words = list(set(words))\n",
        "\n",
        "        for i, word in enumerate(unique_words):\n",
        "            self.vocab[word] = i\n",
        "\n",
        "        print(f\"Learned {len(self.vocab)} words:\")\n",
        "        for word, num in self.vocab.items():\n",
        "            print(f\"  '{word}' -> {num}\")\n",
        "\n",
        "    def encode(self, text):\n",
        "        \"\"\"Convert text to numbers\"\"\"\n",
        "        words = text.split()\n",
        "        numbers = []\n",
        "\n",
        "        for word in words:\n",
        "            if word in self.vocab:\n",
        "                numbers.append(self.vocab[word])\n",
        "            else:\n",
        "                print(f\"Unknown word: {word}\")\n",
        "\n",
        "        return numbers\n",
        "\n",
        "    def decode(self, numbers):\n",
        "        \"\"\"Convert numbers back to text\"\"\"\n",
        "        # Make reverse lookup\n",
        "        num_to_word = {num: word for word, num in self.vocab.items()}\n",
        "\n",
        "        words = []\n",
        "        for num in numbers:\n",
        "            if num in num_to_word:\n",
        "                words.append(num_to_word[num])\n",
        "\n",
        "        return ' '.join(words)\n",
        "\n",
        "# Let's try it!\n",
        "tokenizer = EasyBPE()\n",
        "\n",
        "# Train on simple text\n",
        "text = \"hello world hello there world is great\"\n",
        "tokenizer.train(text)\n",
        "\n",
        "print(\"\\n--- Testing ---\")\n",
        "# Test encoding\n",
        "test_text = \"hello world\"\n",
        "encoded = tokenizer.encode(test_text)\n",
        "print(f\"'{test_text}' -> {encoded}\")\n",
        "\n",
        "# Test decoding\n",
        "decoded = tokenizer.decode(encoded)\n",
        "print(f\"{encoded} -> '{decoded}'\")"
      ],
      "metadata": {
        "colab": {
          "base_uri": "https://localhost:8080/"
        },
        "id": "2CLpunlxQsBu",
        "outputId": "dbab8330-7e44-48bf-c34a-98ad2ad7ad61"
      },
      "execution_count": 2,
      "outputs": [
        {
          "output_type": "stream",
          "name": "stdout",
          "text": [
            "Learned 5 words:\n",
            "  'hello' -> 0\n",
            "  'great' -> 1\n",
            "  'there' -> 2\n",
            "  'world' -> 3\n",
            "  'is' -> 4\n",
            "\n",
            "--- Testing ---\n",
            "'hello world' -> [0, 3]\n",
            "[0, 3] -> 'hello world'\n"
          ]
        }
      ]
    },
    {
      "cell_type": "code",
      "source": [],
      "metadata": {
        "id": "0VMB8ecPSCIl"
      },
      "execution_count": null,
      "outputs": []
    }
  ]
}